{
 "cells": [
  {
   "cell_type": "markdown",
   "metadata": {},
   "source": [
    "### redis-api\n",
    "- Redis\n",
    "    - using `docker run -p 6379:6379 -it --rm redislabs/redismod`\n",
    "    - `redismod` includes the graph and RedisJSON modules\n",
    "- Docs\n",
    "    - RedisJSON: https://redis.io/docs/stack/json/\n",
    "    - https://redis.io/commands/graph.query/\n",
    "    - https://docs.redis.com/latest/modules/redisgraph/redisgraph-quickstart/\n",
    "    - https://redis.js.org/documentation/json/\n",
    "- Redis cli\n",
    "    - INFO\n",
    "    \n",
    "```\n",
    "redis-cli -h 192.168.1.166 -p 6379\n",
    "> INFO\n",
    "\n",
    "# Server\n",
    "redis_version:6.2.6\n",
    "\n",
    "# Modules\n",
    "module:name=ai,ver=10205,api=1,filters=0,usedby=[],using=[],options=[handle-io-errors]\n",
    "module:name=ReJSON,ver=20011,api=1,filters=0,usedby=[search|graph],using=[],options=[handle-io-errors]\n",
    "module:name=graph,ver=20815,api=1,filters=0,usedby=[],using=[ReJSON],options=[]\n",
    "module:name=bf,ver=20209,api=1,filters=0,usedby=[],using=[],options=[]\n",
    "module:name=rg,ver=10204,api=1,filters=1,usedby=[rg],using=[rg],options=[]\n",
    "module:name=search,ver=999999,api=1,filters=0,usedby=[],using=[ReJSON],options=[handle-io-errors]\n",
    "module:name=timeseries,ver=10616,api=1,filters=0,usedby=[],using=[],options=[handle-io-errors]\n",
    "```"
   ]
  },
  {
   "cell_type": "code",
   "execution_count": 1,
   "metadata": {},
   "outputs": [
    {
     "data": {
      "text/plain": [
       "{ config: [Function: config], parse: [Function: parse] }"
      ]
     },
     "execution_count": 1,
     "metadata": {},
     "output_type": "execute_result"
    }
   ],
   "source": [
    "dotenv = require('dotenv')"
   ]
  },
  {
   "cell_type": "code",
   "execution_count": 2,
   "metadata": {},
   "outputs": [
    {
     "data": {
      "text/plain": [
       "'v16.19.0'"
      ]
     },
     "execution_count": 2,
     "metadata": {},
     "output_type": "execute_result"
    }
   ],
   "source": [
    "process.version"
   ]
  },
  {
   "cell_type": "code",
   "execution_count": 3,
   "metadata": {},
   "outputs": [
    {
     "name": "stdout",
     "output_type": "stream",
     "text": [
      "redis://192.168.1.132:6379\n"
     ]
    }
   ],
   "source": [
    "dotenv.config()\n",
    "console.log(process.env.REDIS_HOST)"
   ]
  },
  {
   "cell_type": "code",
   "execution_count": 4,
   "metadata": {},
   "outputs": [
    {
     "name": "stdout",
     "output_type": "stream",
     "text": [
      "connecting to: undefined\n"
     ]
    },
    {
     "data": {
      "text/plain": [
       "{\n",
       "  _events: [Object: null prototype] {},\n",
       "  _eventsCount: 0,\n",
       "  _maxListeners: undefined,\n",
       "  commandOptions: [Function: commandOptions],\n",
       "  select: [AsyncFunction: SELECT],\n",
       "  subscribe: [Function: SUBSCRIBE],\n",
       "  pSubscribe: [Function: PSUBSCRIBE],\n",
       "  unsubscribe: [Function: UNSUBSCRIBE],\n",
       "  pUnsubscribe: [Function: PUNSUBSCRIBE],\n",
       "  quit: [Function: QUIT],\n",
       "  multi: [Function: MULTI],\n",
       "  bf: {},\n",
       "  cms: {},\n",
       "  cf: {},\n",
       "  tDigest: {},\n",
       "  topK: {},\n",
       "  graph: {},\n",
       "  json: {},\n",
       "  ft: {},\n",
       "  ts: {},\n",
       "  getKeysAsync: [AsyncFunction: getKeysAsync],\n",
       "  getAsync: [AsyncFunction: getAsync],\n",
       "  setAsync: [AsyncFunction: setAsync],\n",
       "  deleteAsync: [AsyncFunction: deleteAsync],\n",
       "  queryGraphAsync: [AsyncFunction: queryGraphAsync],\n",
       "  getJsonAsync: [AsyncFunction: getJsonAsync],\n",
       "  setJsonAsync: [AsyncFunction: setJsonAsync],\n",
       "  deleteJsonAsync: [AsyncFunction: deleteJsonAsync],\n",
       "  [Symbol(kCapture)]: false\n",
       "}"
      ]
     },
     "execution_count": 4,
     "metadata": {},
     "output_type": "execute_result"
    }
   ],
   "source": [
    "redisClient = require('./redis/redis-client.js')"
   ]
  },
  {
   "cell_type": "code",
   "execution_count": 5,
   "metadata": {},
   "outputs": [
    {
     "data": {
      "text/plain": [
       "Promise { <pending> }"
      ]
     },
     "execution_count": 5,
     "metadata": {},
     "output_type": "execute_result"
    },
    {
     "name": "stdout",
     "output_type": "stream",
     "text": [
      "[\n",
      "  'lima:metadata:gpt3text/robo-chitchat-jan-2023',\n",
      "  'lima:trx:42d601bf-a985-478f-afc0-4ffa196cc9ce',\n",
      "  'lima:trx:b0cd3952-344c-42f9-9c18-bd217245c3fc',\n",
      "  'lima:metadata:luis/robo-dispatch',\n",
      "  'lima:anx:bf8c7e8d-c88a-437c-93e8-b105cedb410c'\n",
      "]\n"
     ]
    }
   ],
   "source": [
    "(async () => {\n",
    "    result = await redisClient.getKeysAsync()\n",
    "    console.log(result)\n",
    "})()"
   ]
  },
  {
   "cell_type": "code",
   "execution_count": null,
   "metadata": {},
   "outputs": [],
   "source": [
    "(async () => {\n",
    "    result = await redisClient.queryGraphAsync(`MATCH (n) return n`)\n",
    "    console.log(result)\n",
    "})()"
   ]
  },
  {
   "cell_type": "code",
   "execution_count": null,
   "metadata": {},
   "outputs": [],
   "source": [
    "(async () => {\n",
    "    json = { \"employee\": { \"name\": \"alpha\", \"age\": 24,\"single\": true }  }\n",
    "    result = await redisClient.setJsonAsync('employee_profile', json)\n",
    "    console.log(result)\n",
    "})()"
   ]
  },
  {
   "cell_type": "code",
   "execution_count": null,
   "metadata": {},
   "outputs": [],
   "source": [
    "(async () => {\n",
    "    const options = {\n",
    "        path: [\n",
    "            '.employee.name',\n",
    "            '.employee.age'\n",
    "        ]\n",
    "    }\n",
    "    result = await redisClient.getJsonAsync('employee_profile', options)\n",
    "    console.log(result)\n",
    "})()"
   ]
  },
  {
   "cell_type": "code",
   "execution_count": null,
   "metadata": {},
   "outputs": [],
   "source": [
    "(async () => {\n",
    "    const options = {}\n",
    "    result = await redisClient.getJsonAsync('lima:trx:416df429-dc22-4bd0-af35-c70be9d0d97a', options)\n",
    "    console.log(result)\n",
    "})()"
   ]
  },
  {
   "cell_type": "code",
   "execution_count": null,
   "metadata": {},
   "outputs": [],
   "source": [
    "(async () => {\n",
    "    result = await redisClient.setAsync('mykey', 'Hello, world.')\n",
    "    console.log(result)\n",
    "})()"
   ]
  },
  {
   "cell_type": "code",
   "execution_count": null,
   "metadata": {},
   "outputs": [],
   "source": [
    "(async () => {\n",
    "    result = await redisClient.getAsync('mykey')\n",
    "    console.log(result)\n",
    "})()"
   ]
  },
  {
   "cell_type": "code",
   "execution_count": null,
   "metadata": {},
   "outputs": [],
   "source": []
  },
  {
   "cell_type": "code",
   "execution_count": null,
   "metadata": {},
   "outputs": [],
   "source": [
    "trx1 = {\n",
    "    clientId: 'client-id',\n",
    "    sessionId: 'session-id',\n",
    "    input: 'do you like ice cream->',\n",
    "    inputData: 'input-data',\n",
    "    type: 'user',\n",
    "    serviceType: 'gpt3text',\n",
    "    appName: 'gpt3text/robo-chitchat-jan-2023',\n",
    "    accountId: 'robot1',\n",
    "    environment: 'environment',\n",
    "}\n",
    "\n",
    "trx2 = {\n",
    "    clientId: 'client-id',\n",
    "    sessionId: 'session-id',\n",
    "    input: 'what time is it->',\n",
    "    inputData: 'input-data',\n",
    "    type: 'user',\n",
    "    serviceType: 'gpt3text',\n",
    "    appName: 'gpt3text/robo-chitchat-jan-2023',\n",
    "    accountId: 'robot2',\n",
    "    environment: 'environment',\n",
    "}"
   ]
  },
  {
   "cell_type": "code",
   "execution_count": null,
   "metadata": {},
   "outputs": [],
   "source": []
  },
  {
   "cell_type": "code",
   "execution_count": null,
   "metadata": {},
   "outputs": [],
   "source": []
  },
  {
   "cell_type": "code",
   "execution_count": null,
   "metadata": {},
   "outputs": [],
   "source": []
  },
  {
   "cell_type": "code",
   "execution_count": null,
   "metadata": {},
   "outputs": [],
   "source": [
    "(async () => {\n",
    "    result = await redisClient.setJsonAsync('trx:1', trx1)\n",
    "    console.log(result)\n",
    "})()"
   ]
  },
  {
   "cell_type": "code",
   "execution_count": null,
   "metadata": {},
   "outputs": [],
   "source": [
    "(async () => {\n",
    "    result = await redisClient.setJsonAsync('trx:2', trx2)\n",
    "    console.log(result)\n",
    "})()"
   ]
  },
  {
   "cell_type": "code",
   "execution_count": null,
   "metadata": {},
   "outputs": [],
   "source": [
    "(async () => {\n",
    "    result = await redisClient.getJsonAsync('lima:trx:4cbdeb11-717e-4fbc-b4aa-dc310a6dc532')\n",
    "    console.log(result)\n",
    "})()"
   ]
  },
  {
   "cell_type": "code",
   "execution_count": null,
   "metadata": {},
   "outputs": [],
   "source": [
    "// (async () => {\n",
    "//     result = await redisClient.deleteJsonAsync('trx:2')\n",
    "//     console.log(result)\n",
    "// })()"
   ]
  },
  {
   "cell_type": "markdown",
   "metadata": {},
   "source": [
    "### Search"
   ]
  },
  {
   "cell_type": "code",
   "execution_count": null,
   "metadata": {},
   "outputs": [],
   "source": []
  },
  {
   "cell_type": "code",
   "execution_count": null,
   "metadata": {},
   "outputs": [],
   "source": [
    "redisClient.ft.create('lima:idx:trx', {\n",
    "        \"$.id\": {\n",
    "            \"type\": \"TEXT\",\n",
    "            \"AS\": \"id\"\n",
    "        },\n",
    "        \"$.sessionId\": {\n",
    "            \"type\": \"TEXT\",\n",
    "            \"AS\": \"sessionId\"\n",
    "        },\n",
    "        \"$.serviceType\": {\n",
    "            \"type\": \"TEXT\",\n",
    "            \"AS\": \"serviceType\"\n",
    "        },\n",
    "        \"$.accountId\": {\n",
    "            \"type\": \"TEXT\",\n",
    "            \"AS\": \"accountId\"\n",
    "        }\n",
    "    }, {\n",
    "      ON: 'JSON',\n",
    "      PREFIX: 'lima:trx:'\n",
    "    })\n",
    "    .then(result => console.log(result))\n",
    "    .catch(error => console.log(error))"
   ]
  },
  {
   "cell_type": "code",
   "execution_count": null,
   "metadata": {},
   "outputs": [],
   "source": [
    "redisClient.ft.search('lima:idx:trx', '*')\n",
    "    .then(result => console.log(util.inspect(result, {showHidden: false, depth: 5, colors: true})))\n",
    "    .catch(error => console.log(error))"
   ]
  },
  {
   "cell_type": "code",
   "execution_count": null,
   "metadata": {},
   "outputs": [],
   "source": [
    "redisClient.ft.search('lima:idx:trx', `@serviceType:'luis'`)\n",
    "    .then(result => console.log(result))\n",
    "    .catch(error => console.log(error))"
   ]
  },
  {
   "cell_type": "code",
   "execution_count": null,
   "metadata": {},
   "outputs": [],
   "source": [
    "redisClient.ft.search('idx:trx', `@accountId:'robot2'`)\n",
    "    .then(result => console.log(result))\n",
    "    .catch(error => console.log(error))"
   ]
  },
  {
   "cell_type": "code",
   "execution_count": null,
   "metadata": {},
   "outputs": [],
   "source": [
    "redisClient.ft.search('idx:trx', `@accountId:'robot2' @serviceType:'luis'`)\n",
    "    .then(result => console.log(result))\n",
    "    .catch(error => console.log(error))"
   ]
  },
  {
   "cell_type": "code",
   "execution_count": null,
   "metadata": {},
   "outputs": [],
   "source": [
    "redisClient.ft.search('idx:trx', `@accountId:'robot2' @serviceType:'(luis|gpt3text)'`)\n",
    "    .then(result => console.log(result))\n",
    "    .catch(error => console.log(error))"
   ]
  },
  {
   "cell_type": "code",
   "execution_count": null,
   "metadata": {},
   "outputs": [],
   "source": [
    "redisClient.ft.search('idx:trx', `@accountId:'(robot1|robot2)' @serviceType:'(luis|gpt3text)'`)\n",
    "    .then(result => console.log(result))\n",
    "    .catch(error => console.log(error))"
   ]
  },
  {
   "cell_type": "code",
   "execution_count": null,
   "metadata": {},
   "outputs": [],
   "source": [
    "redisClient.ft.search('lima:idx:anx', `*`)\n",
    "    .then(result => console.log(result))\n",
    "    .catch(error => console.log(error))"
   ]
  },
  {
   "cell_type": "code",
   "execution_count": null,
   "metadata": {},
   "outputs": [],
   "source": [
    "redisClient.ft._list()\n",
    "    .then(result => console.log(result))\n",
    "    .catch(error => console.log(error))"
   ]
  },
  {
   "cell_type": "code",
   "execution_count": null,
   "metadata": {},
   "outputs": [],
   "source": [
    "redisClient.ft.info('lima:idx:metadata')\n",
    "    .then(result => console.log(result))\n",
    "    .catch(error => console.log(error))"
   ]
  },
  {
   "cell_type": "code",
   "execution_count": null,
   "metadata": {},
   "outputs": [],
   "source": [
    "redisClient.ft.dropIndex('lima:idx:anx')\n",
    "    .then(result => console.log(result))\n",
    "    .catch(error => console.log(error))"
   ]
  },
  {
   "cell_type": "code",
   "execution_count": null,
   "metadata": {},
   "outputs": [],
   "source": []
  }
 ],
 "metadata": {
  "kernelspec": {
   "display_name": "JavaScript (Node.js)",
   "language": "javascript",
   "name": "javascript"
  },
  "language_info": {
   "file_extension": ".js",
   "mimetype": "application/javascript",
   "name": "javascript",
   "version": "16.19.0"
  }
 },
 "nbformat": 4,
 "nbformat_minor": 4
}
